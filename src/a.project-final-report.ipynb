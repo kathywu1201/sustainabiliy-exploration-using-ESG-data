{
 "cells": [
  {
   "cell_type": "markdown",
   "metadata": {
    "cell_id": "00001-de922ee6-b367-414f-8006-b517d45f0347",
    "deepnote_cell_height": 590.78125,
    "deepnote_cell_type": "markdown"
   },
   "source": [
    "# Exploring Countries‘ Sustainabiliy Using ESG Data\n",
    "\n",
    "Kathy Wu, Nathan Lai, Ruoxin Wang, Yuchen Fang.\n",
    "\n",
    "### Author contributions\n",
    "\n",
    "Kathy Wu contributed Data Cleaning, Principal Component Analysis Code and Result.\n",
    "\n",
    "Nathan Lai contributed Datasets Description, Principal Components Analysis plots and Discussion.\n",
    "\n",
    "Ruoxin Wang contributed Introdution, ESG score evaluation coding and Result ( ESG score evaluation part).\n",
    "\n",
    "Yuchen Fang contributed Abstract and Methods.\n",
    "\n",
    "### Abstract\n",
    "\n",
    "\n",
    "This report mainly investigates the sustainability of countries through Environment, Social, and Governance aspects and analyzes the variation among the principal components of each country. The motive is to find out which country is most sustainable during the Covid-19 pandemic outbreak. According to Principle Component Analysis, there are no significant changes in the chosen ESG variables during the pandemic. Although the variation of GDP growth is thought to be an influential component, it doesn't affect the result a lot. Hence, a new sustainability score evaluation method is used and Vietnam is considered the most sustainable country in 2019 and 2020."
   ]
  },
  {
   "cell_type": "markdown",
   "metadata": {},
   "source": [
    "---\n",
    "## 0. Introduction\n",
    "\n",
    "### -> Background\n",
    "\n",
    "ESG is an abbreviation for Environmental, Social, and Governance ---- a combination of three categories of non-financial factors that are increasingly applied by investors as part of their analysis process to evaluate material risks and growth opportunities nowadays. However, to better align with the global goals, the World Bank Group rearranges it into a new data frame that further classifies 17 key sustainability themes based on the original environmental, social, and governance categories, which some of the key themes are shown in the image below (image credit: bondevalue.com). \n",
    "\n",
    "<center><img src = 'intro.png' style = 'width:500px'></center>\n",
    "\n",
    "The World Bank Group believes that these themes are crucial for financial sector representatives to consider when assessing the contribution of investments or policies to sustainable development. Based on the [ESG Score Evaluation](https://www.gobyinc.com/esg-scores-why-they-matter/), an ESG score ranging from 0 to 100 will be assigned. Usually, a score of less than 50 will be regarded as poor performance and a score of more than 70 will be considered as excellent performance.\n",
    "\n",
    "<br> \n"
   ]
  },
  {
   "cell_type": "markdown",
   "metadata": {
    "cell_id": "00002-f31ac266-6e69-4fa3-9dad-9f22b72a559b",
    "deepnote_cell_height": 834.5625,
    "deepnote_cell_type": "markdown",
    "tags": []
   },
   "source": [
    "### -> Aims\n",
    "\n",
    "At the beginning of 2020, a worldwide pandemic hit hard across the world. Economic fallout, the unemployment rate remained high, people suffered from living hardships, and the decline in GDP growth is also inevitable. This decrease can be shown in the estimated density plot of GDP Growth below for the year 2019 and 2020.\n",
    "\n",
    "> **Figure 1**: The distribution of GDP growth of each country from 2019 to 2020 in the data.\n",
    "\n",
    "<center><img src = 'gdp_growth.svg' style = 'width:500px'></center>\n",
    "\n",
    "Since the estimated density of GDP growth is observed to be a significant difference for two years, this project will focus on comparing various aspects of Environment, Social, and Governance (ESG) categories for most countries before and after the existence of a pandemic and how each variable drives the variation of the data. Using Principal Components Analysis to discover which ESG key factors would have a larger influence, as well as, whether they cause any effects on the accuracy of the ESG Score Evaluation Method. However, the result reveals that there are no significant changes in the distribution of the selected ESG variables, which suggests that the accuracy of the ESG Scoring Method is relatively objective and will not be easily swayed by such unexpected incidents as COVID-19. Furthermore, a new scoring method adapted based on the original system is created to study the sustainability of each country during 2019 and 2020, which finds out the most sustainable one with the highest sum of variable scores.\n",
    "\n"
   ]
  },
  {
   "cell_type": "markdown",
   "metadata": {},
   "source": [
    "---\n",
    "## 1. Dataset Description\n",
    "\n",
    "\n",
    "In order to shift financial flows so that they are better aligned with global goals, the World Bank Group (WBG) is working to provide financial markets with improved data and analytics that shed light on countries’ sustainability performance. This dataset is classified as Public under the Access to Information Classification Policy. It provides information on sustainability themes spanning environmental, social, and governance categories. Along with new information and tools, the World Bank can develop research on the correlation between countries’ sustainability performance and the risk and return profiles of relevant investments.\n",
    "<br>\n",
    "\n",
    "These data are publicly available: \n",
    "> [Environment, Social and Governance Data, The World Bank](https://datacatalog.worldbank.org/search/dataset/0037651/Environment--Social-and-Governance-Data) and is licensed under [Creative Commons Attribution 4.0](https://datacatalog.worldbank.org/public-licenses?fragment=cc).)\n",
    "\n",
    "After cleaning up the raw data from the source, the final dataset contains 2-year ESG information from 239 countries all over the world with a total of 478 observations and 11 ESG variables.\n",
    "\n",
    "\n",
    "<br>\n",
    "\n",
    "### -> Sample and measurement information\n",
    "\n",
    "For the collection method, since this data is census data, the values in the topic Governance and Social are obtained from surveys, and most of the data on the topic Environment is collected by using scientific equipment.\n",
    "<br>"
   ]
  },
  {
   "cell_type": "markdown",
   "metadata": {
    "cell_id": "00003-566df27b-e130-4d64-8df0-e3c457ffdee7",
    "deepnote_cell_height": 1303.328125,
    "deepnote_cell_type": "markdown",
    "tags": []
   },
   "source": [
    "Furthermore, for the sampling design and scope of inference this, all countries reporting environment, social and governance data is the sampling frame, the census is the sampling mechanism, and the scope of inference is none.\n",
    "\n",
    "\n",
    "> **Table 1**: variable descriptions, topic, data type and units for each variable in the dataset.\n",
    "\n",
    "|Name | Variable Description | Topic | Type | Units of measurement\n",
    "|---|------|---------|---------|---------\n",
    "|fore_area | *Forest area* | Environment | Numeric | % of land area\n",
    "|pop_denst | *Population density* | Environment | Numeric | people per sq. km of land area\n",
    "|rate_labor | Ratio of female to male *labor force participation rate* | Governance | Numeric | % (modeled ILO estimate) \n",
    "|gdp_grow | *GDP growth* | Governance | Numeric | annual %\n",
    "|parliment_women_seat | *Proportion of seats held by women* | Governance | Numeric | % in national parliaments\n",
    "|unemp_rate | *Unemployment*, total | Social | Numeric |  % of total labor force (modeled ILO estimate)\n",
    "|life_exp | *Life expectancy* at birth, total | Social | Numeric | years\n",
    "|acce_electr | Access to *electricity* | Social | Numeric | % of population\n",
    "|mortal_rate | *Mortality* rate, under-5 | Social | Numeric | per 1,000 live births\n",
    "|acce_fuel_tech | Access to *clean fuels* and *technologies* for cooking | Social | Numeric | % of population\n",
    "|pop_65 | Population *ages 65 and above* | Social | Numeric | % of total population\n",
    "\n",
    "In tiding up the data, the *Mortality Rate* was converted to the percentage base, and *Population Density* was converted using logarithm to obtain a smaller variance. The first few rows of the ESG data are shown in Table 2 below.\n",
    "<br>\n",
    "\n",
    "> **Table 2**: example rows of data.\n",
    "\n",
    "| Row   |  Country Name |    Country Code |    Year |   acce_fuel_tech |   acce_electr |   fore_area |   gdp_grow |  life_exp |   mortal_rate | pop_65  | parliment_women_seat | rate_labor | unemp_rate  | log_pop_denst  | \n",
    "|---:|--------:|------:|----------:|-----------:|-----------:|----------:|------------:|------------:|-----------:|-------------:|-------------:|-------------:|-------------:|-------------:|\n",
    "|  0    |  Afghanistan    |  AFG    |  2019    |  31.9    |  97.7    |  1.850994087    |  3.9116034    |  64.833    |  0.0601    |  2.615794213    |  27.86885245    |  30.00988032    |  11.21700000    |  1.76544050640   |\n",
    "|  1    |  Afghanistan    |  AFG    |  2020    |  33.2    |  97.7    |  1.850994087    |  -2.351100673    |  65.173    |  0.058    |  2.64906965    |  27.01612903    |  24.68587789  |    11.7100000    |  1.7754458352 |\n",
    "|  2    |  Albania    |  ALB    |  2019    |  80.7    |  100    |  28.79197080    |  2.113419981    |  78.573    |  0.0097    |  14.20263062    |  29.50819672    |  77.8291194    |  11.47000026    |  2.0177324695  |\n",
    "|  3   |  Albania   |  ALB   |  2020   |  81.3   |  100   |  28.79197080   |  -3.955397926   |  78.686   |  0.0098   |  14.70458131   |  29.50819672   |  75.85744815   |  13.32900047   |  2.01523872040  |\n",
    "|  4  |  Algeria  |  DZA  |  2019  |  99.7  |  99.5  |  0.814110350  |  0.9999999999  |  76.88  |  0.0233  |  6.552777881  |  25.75757575  |  24.87786005  |  10.51299953  |  1.25710943107  |\n"
   ]
  },
  {
   "cell_type": "markdown",
   "metadata": {
    "cell_id": "97486eb5027c4179a04ca7a8ef739b6d",
    "deepnote_cell_height": 355.78125,
    "deepnote_cell_type": "markdown",
    "tags": []
   },
   "source": [
    "----\n",
    "## 2. Methods\n",
    "\n",
    "\n",
    "Exploratory analysis on multiple variables is applied while dealing with the dataset, such as examining correlation structure and computing and selecting principal components. A heatmap is made among all variables from the original dataset to explore the correlation and discard some unnecessary components. Then, 11 variables are chosen among 3 big categories from the dataset and ran PCA analysis. Principal Components Analysis(PCA) is to find variable combinations that capture large portions of the variation and covariation in our dataset. PCA can also capture the changes in the variation and covariation of the components in specific years such as 2019 to 2020 when there was a global Covid-19 outbreak, and see whether there are any changes in the weighted components affected by the pandemic. To further compare the sustainability of each country, all evaluated variables are ranked and assigned a score from 1 to 5 based on their positions of ranking quantiles in the overall sorted numeric value list. The sum of scores for all variables will be calculated for each country ranging from 5 to 55 and then, based on the original ESG Score Evaluation, the countries with the highest sum of scores will be the ones that have the most sustainable performance generally."
   ]
  },
  {
   "cell_type": "markdown",
   "metadata": {},
   "source": [
    "<br>"
   ]
  },
  {
   "cell_type": "markdown",
   "metadata": {},
   "source": [
    "<br>"
   ]
  },
  {
   "cell_type": "markdown",
   "metadata": {
    "cell_id": "00004-1cd9a944-ca5c-4bdb-b62a-b77752e95e48",
    "deepnote_cell_height": 1156.140625,
    "deepnote_cell_type": "markdown",
    "tags": []
   },
   "source": [
    "---\n",
    "## 3. Results\n",
    "\n",
    "### -> Averages and Variabtions on each ESG variables\n",
    "\n",
    "The exploratory analysis here focuses on how each value of ESG variables shifted from 2019 to 2020. Figure 2 explains the averages and variabilities of value of each ESG variables for year 2019 and 2020.\n",
    "\n",
    "> **Figure 2**: Average relative abundance and variability by ESG variable for year 2019 and 2020; the error bars represent two standard deviations in either direction relative to the mean value across the same year.\n",
    "\n",
    "<center><img src = 'error_bars.svg' style = 'width:600px'></center>\n",
    "\n",
    "Only the *GDP Growth* shows noticable shift from 2019 to 2020. The other ESG variables reflect minimal changes between year 2019 and 2020. One possible reason of this shift might be the occurrance of COVID-19 at the beginning 2020. \n",
    "\n",
    "### -> Principal Components Analysis\n",
    "\n",
    "By performing the analysis of the Principal components on a normalized basis, the resulting measures reflect the relative values for each ESG variable. These components together captured about fifty percent of the total variation in relative values of ESG variables from 2019 to 2020. The first Principal Component primarily explains the variables related to the Social Topic which are *Access to Electricity*, *Access to Clean Fuel*, and *Mortality Rate*. The second explains both Governance and Social Topics, however, the absolute loading value of *Labor rate* is much higher, hence it predominantly explains the Governance Topic."
   ]
  },
  {
   "cell_type": "markdown",
   "metadata": {},
   "source": [
    "<br>"
   ]
  },
  {
   "cell_type": "markdown",
   "metadata": {},
   "source": [
    "<br>"
   ]
  },
  {
   "cell_type": "markdown",
   "metadata": {},
   "source": [
    "<br>"
   ]
  },
  {
   "cell_type": "markdown",
   "metadata": {},
   "source": [
    "> **Figure 3**: Scatterplot of the principal components where Social variables on the x-axis and Goverence variables on the y-axis while the points are colored according to the year (2019-2020), and univariate distributions of each measure is shown adjacent to the scatterplot accordingly; on the right, the high PC1 and PC2 loadings indicate the variables that drive the variation in the data.\n",
    "\n",
    "<center><img src = 'scatterplot.svg' style = 'width:700px'> <img src = 'loading.svg' style = 'width:400px'></center>\n",
    "\n",
    "According to the univariate distribution panels, the center and spread of each measure do not change noticeably between 2019 and 2020. It demonstrates that although the GDP growth has a predominantly changed from 2019 to 2020, it does not have much effect on the shape of the scatter plot from 2019 to 2020 and the composition of ESG variables. \n",
    "\n",
    "### -> Sustainability Score Evaluation\n",
    "\n",
    "Lastly, to further explore which country performs the best in sustainable development in 2019 and 2020, a sustainable score evaluation method is used, which is adapted from the original ESG evaluation system. The final results with the most sustainable country for 2019 and 2020 are shown in the table below.\n",
    "\n",
    "> **Table 3**: The result table of country with the highest sustainability score for Year 2019 and 2020\n",
    "\n",
    "|     | Country Name   | Country Code   |   Year |   score_sum |\n",
    "|:----:|:---------------:|:---------------:|:-------:|:------------:|\n",
    "| 468 | Vietnam        | VNM            |   2019 |          47 |\n",
    "\n",
    "|     | Country Name   | Country Code   |   Year |   score_sum |\n",
    "|:----:|:---------------:|:---------------:|:-------:|:------------:|\n",
    "| 259 | Luxembourg     | LUX            |   2020 |          47 |\n",
    "| 469 | Vietnam        | VNM            |   2020 |          47 |\n",
    "\n",
    "<br>\n",
    "From the table above, it is easy to see that Vietnam got the highest sustainability score of 47 out of 55 for both 2019 and 2020, and Luxembourg got the highest sustainability score of 47 out of 55 for 2020 as well."
   ]
  },
  {
   "cell_type": "markdown",
   "metadata": {},
   "source": [
    "<br>"
   ]
  },
  {
   "cell_type": "markdown",
   "metadata": {
    "cell_id": "9cce8eb5b5024a129bab805806b6a36c",
    "deepnote_cell_height": 697.359375,
    "deepnote_cell_type": "markdown",
    "tags": []
   },
   "source": [
    "---\n",
    "## 4. Discussion\n",
    "This project analyzes the sustainability from 2019 to 2020, to see how each country's sustainability changed affected by the COVID. Since the GDP is the most changeable variable through the years, the analysis first focused on the GDP growth before and after the pandemic, which is 2019 and 2020(Figure 1). Next, to identify both individual ESG variables that reflect corresponding shifts in average values(Figure 2) to locate which variable has the greatest changes. By applying and plotting the PCs(Figure 3), the graph shows that GDP growth doesn't have mainly effect on the sustainbility。 Conversely, the variables Access to Electricity, Access to Clean Fuel and Mortality Rate and Ratio of female to male labor force participation rate are the greatest affection variables to the sustainability. Moreover, the scatterplot shows that from 2019 to 2020, there are no significant changes to these weighted variables. Thus, based on the original evaluation method, we set up a new method(table 3) that is based on a currently existing well-established ESG Scores calculation. To analyze which is the most sustainable country before and after the existence of a pandemic.\n",
    "\n",
    "The analysis suggests that from 2019 to 2020, the relationship between each ESG variable did not have any changes. Access to energy (electricity and clean fuels and technologies for cooking), which represent a country's technology and development level, is more relative to sustainability compared to other ESG variables(PC1 is typically slightly negative). In contrast, for such a well-developed country, its mortality rate will be lower than other developing countries. For example, based on the ESG Scores calculation, Luxembourg, which is a developed county, is more sustainable than other countries. Furthermore, the labor rate is also relative to sustainability compared to other ESG variables(PC2 is typically slightly negative). In comparison, the population density will be lower since if the supply of labor doesn't change, when population density goes up, the demand for labor will also go up, which will create a shortage in the labor market and lower the labor rate. For example, Vietnam. Many of the manufacturers are moving away from China and consider Vietnam as a lower-cost, reliable and quality source of parts, materials, and manufactured components. This will provide more job opportunities for Vietnam's people and increase the labor rate of the country, which also matches the result of the ESG Scores calculation.\n",
    "\n",
    "Although it is not discussed here, this dataset can probably be used to predict the GDP Growth for each country using the other non-financial key factors in this ESG dataset. Accessing the whole ESG dataset would have an adequate amount of data to construct a model for prediction."
   ]
  }
 ],
 "metadata": {
  "deepnote": {},
  "deepnote_execution_queue": [],
  "deepnote_notebook_id": "b21f131e-0493-4e85-90af-5963d63b05e7",
  "kernelspec": {
   "display_name": "Python 3 (ipykernel)",
   "language": "python",
   "name": "python3"
  },
  "language_info": {
   "codemirror_mode": {
    "name": "ipython",
    "version": 3
   },
   "file_extension": ".py",
   "mimetype": "text/x-python",
   "name": "python",
   "nbconvert_exporter": "python",
   "pygments_lexer": "ipython3",
   "version": "3.9.10"
  }
 },
 "nbformat": 4,
 "nbformat_minor": 4
}
