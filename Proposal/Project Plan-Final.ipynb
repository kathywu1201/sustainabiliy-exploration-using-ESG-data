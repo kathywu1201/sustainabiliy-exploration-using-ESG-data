{
 "cells": [
  {
   "cell_type": "code",
   "execution_count": 1,
   "metadata": {},
   "outputs": [],
   "source": [
    "# libraries\n",
    "import numpy as np\n",
    "import pandas as pd\n",
    "import altair as alt"
   ]
  },
  {
   "cell_type": "markdown",
   "metadata": {},
   "source": [
    "# PSTAT 100 Project plan\n",
    "\n",
    "This is a guide to preparing your project plan. It functions both as a guide to the work you'll need to do and as a guide to preparing the deliverable. You can use it as a template to draft the plan report; if so, **please remove the text explanations and instructions in each section so that it reads as a coherent and continuous document**.\n",
    "\n",
    "While you may find it useful initially to follow the outline given, you do not need to adhere to it exactly -- you're free to organize your submission in the way that seems most natural to you. However, please do keep the high-level sections, so that your report includes the following headers:\n",
    "\n",
    "0. Background\n",
    "1. Data description\n",
    "2. Initial exporations\n",
    "3. Planned work\n",
    "\n",
    "Your report does not need to be long. It should be about 2-4 pages, and might not be much longer than this template once you replace the guiding text with your own work."
   ]
  },
  {
   "cell_type": "markdown",
   "metadata": {},
   "source": [
    "## Group information\n",
    "\n",
    "**Group members**: \n",
    "\n",
    "Kathy Wu, Nathan Lai, Tymee Wang, Yuchen Fang\n",
    "\n",
    "**Contributions**:\n",
    "\n",
    "Kathy Wu: Tidied and visulized the dataset, Planned work <br>\n",
    "Nathan Lai:  Data Description, Planned work<br>\n",
    "Tymee Wang: Background Information, Planned work<br>\n",
    "Yuchen Fang: Initial exploration, Planned work"
   ]
  },
  {
   "cell_type": "markdown",
   "metadata": {},
   "source": [
    "---\n",
    "## 0. Background\n",
    "\n",
    "This section should introduce your reader to the general topic you're engaging with in your project and explain any specialized knowledge that they may need to understand your dataset and why it's interesting. It doesn't need to be long, but should touch on the following points:\n",
    "* Introduce the topic of your project.\n",
    "* What area or areas of study are you in dialogue with for your project?\n",
    "* What is your data about, broadly? \n",
    "* What is the motivation for collecting the kind of data you're working with, and what sorts of things could you potentially learn?"
   ]
  },
  {
   "cell_type": "markdown",
   "metadata": {},
   "source": [
    "ESG is an abbreviation for Environmental, Social, and Governance, which is a combination of three categories of non-financial factors that are increasingly applied by investors as part of their analysis process to evaluate material risks and growth opportunities nowadays. However, in order to better align with the global goals, the World Bank Group rearranges it in a new data framework which further classifies 17 key sustainability themes based on the original environmental, social, and governance categories. The World Bank Group believes that these themes are crucial for financial sector representatives to consider when assessing the contribution of investments or policies to sustainable development.\n",
    "\n",
    "Our project will mainly focus on analyzing the reported ESG data from the year 2000 to 2020. We would like to see which region or continent is the most sustainable based on the assessment and whether there is any correlation among the three categories. Also, any events that are not included in the assessing framework but would influence the whole sustainability result is also the question that we would like to pay attention to.\n",
    "\n",
    "For our data here, we keep the division of the three parts: Environmental, Social, and Governance. The Environmental part encompasses key themes that focus on the economic performance given a country’s natural resource endowment, management and supplementation, and also accounts for other factors such as food security for stable long-term economic growth. For the Social part, it indicates how good a country’s performance is on its efficacy in meeting the basic needs of its population and reducing poverty, management of social and equity issues and investment in human capital and productivity. For the Governance part, it evaluates a country’s sustainability by its institutional capacity to support long-term development, including political, financial and legal aspects.\n",
    "\n",
    "The motivation of collecting this data is to study how large the gap among countries all over the world would have on their development and sustainability in these three aspects and what factors may contribute to such a situation. The things that we can potentially learn is what changes the country with lower sustainability can make to improve their current status and the overall developing trend of the world as a whole."
   ]
  },
  {
   "cell_type": "markdown",
   "metadata": {},
   "source": [
    "![intro](intro.png)"
   ]
  },
  {
   "cell_type": "markdown",
   "metadata": {},
   "source": [
    "---\n",
    "## 1. Data description\n",
    "\n",
    "This section should introduce your dataset in detail. It should reflect your having gone through the collect/acquaint/tidy stages of the lifecycle. Below I've provided you with an outline. You do not need to adhere to this strictly -- in fact, it would be more natural to divide the items among a few short paragraphs -- but you should touch on each item in a format that suits your project."
   ]
  },
  {
   "cell_type": "markdown",
   "metadata": {},
   "source": [
    "### Basic information\n",
    "\n",
    "\n",
    "**General description**: \\\n",
    "In order to shift financial flows so that they are better aligned with global goals, the World Bank Group (WBG) is working to provide financial markets with improved data and analytics that shed light on countries’ sustainability performance. This dataset provides information on sustainability themes spanning environmental, social, and governance categories. Along with new information and tools, the World Bank can develop research on the correlation between countries’ sustainability performance and the risk and return profiles of relevant investments.\n",
    "\n",
    "\n",
    "**Source**: \\\n",
    "[Environment, Social and Governance Data, The World Bank](https://datacatalog.worldbank.org/search/dataset/0037651/Environment--Social-and-Governance-Data) is classified as Public under the Access to Information Classification Policy. This dataset is licensed under [Creative Commons Attribution 4.0](https://datacatalog.worldbank.org/public-licenses?fragment=cc).\n",
    "\n",
    "\n",
    "**Collection methods**: \\\n",
    "Our data is census data, most of the data values in topic Governance and Social are obtained from surveys, and most of the data in topic Environment is collected by using scientific equipment.\n",
    "\n",
    "**Sampling design and scope of inference**: \\\n",
    "Sampling frame: all countries reporting environment, social and governance data.\\\n",
    "Sampling mechanism:  census\\\n",
    "Scope of inference: none\n"
   ]
  },
  {
   "cell_type": "markdown",
   "metadata": {},
   "source": [
    "### Data semantics and structure\n",
    "\n",
    "**Units and observations**: State the observational units.\n",
    "\n",
    "**Variable descriptions**: Provide a table of variable descriptions. If your dataset is large and you'll only work with a subset of the total available variables, limit your attention to the variables that you'll work with. Here's a template you can work with:\n",
    "\n",
    "Name | Variable Description | Topic | Type | Units of measurement\n",
    "---|---|---|---|---\n",
    "fore_area | *Forest area* | Environment | Numeric | % of land area\n",
    "fore_dep | Adjusted savings: *net forest depletion* | Environment | Numeric | % of GNI\n",
    "natu_res_dep | Adjusted savings: *natural resources depletion* | Environment | Numeric | % of GNI\n",
    "pop_denst | *Population density* | Environment | Numeric | people per sq. km of land area\n",
    "rate_labor | Ratio of female to male *labor force participation rate* | Governance | Numeric | % (modeled ILO estimate) \n",
    "gdp_grow | *GDP growth* | Governance | Numeric | annual %\n",
    "unemp_rate | *Unemployment*, total | Social | Numeric |  % of total labor force (modeled ILO estimate)\n",
    "life_exp | *Life expectancy* at birth, total | Social | Numeric | years\n",
    "acce_electr | Access to *electricity* | Social | Numeric | % of population\n",
    "mortal_rate | *Mortality* rate, under-5 | Social | Numeric | per 1,000 live births\n",
    "acce_fuel_tech | Access to *clean fuels* and *technologies* for cooking | Social | Numeric | % of population\n",
    "pop_65 | Population *ages 65 and above* | Social | Numeric | % of total population\n",
    "ferti_rate | *Fertility rate*, total | Social | Numeric | births per woman\n",
    "\n",
    "\n",
    "**Example rows**: Print a few example rows of your dataset in tidy format. Please don't include the codes you used to manipulate the raw data. Do that in a separate notebook and export the result to a .csv file -- `data.to_csv('tidy-data.csv')` -- to load directly into the cell below."
   ]
  },
  {
   "cell_type": "code",
   "execution_count": 2,
   "metadata": {},
   "outputs": [
    {
     "data": {
      "text/html": [
       "<div>\n",
       "<style scoped>\n",
       "    .dataframe tbody tr th:only-of-type {\n",
       "        vertical-align: middle;\n",
       "    }\n",
       "\n",
       "    .dataframe tbody tr th {\n",
       "        vertical-align: top;\n",
       "    }\n",
       "\n",
       "    .dataframe thead th {\n",
       "        text-align: right;\n",
       "    }\n",
       "</style>\n",
       "<table border=\"1\" class=\"dataframe\">\n",
       "  <thead>\n",
       "    <tr style=\"text-align: right;\">\n",
       "      <th></th>\n",
       "      <th>Region</th>\n",
       "      <th>Country Name</th>\n",
       "      <th>Year</th>\n",
       "      <th>Population density (people per sq. km of land area)</th>\n",
       "      <th>Forest area (% of land area)</th>\n",
       "      <th>GDP growth (annual %)</th>\n",
       "      <th>Ratio of female to male labor force participation rate (%) (modeled ILO estimate)</th>\n",
       "      <th>Access to electricity (% of population)</th>\n",
       "      <th>Life expectancy at birth, total (years)</th>\n",
       "      <th>Unemployment, total (% of total labor force) (modeled ILO estimate)</th>\n",
       "      <th>Access to clean fuels and technologies for cooking (% of population)</th>\n",
       "    </tr>\n",
       "  </thead>\n",
       "  <tbody>\n",
       "    <tr>\n",
       "      <th>0</th>\n",
       "      <td>Africa</td>\n",
       "      <td>Congo, Dem. Rep.</td>\n",
       "      <td>2000</td>\n",
       "      <td>20.778470</td>\n",
       "      <td>63.474118</td>\n",
       "      <td>-6.910927</td>\n",
       "      <td>96.881158</td>\n",
       "      <td>6.700000</td>\n",
       "      <td>50.041</td>\n",
       "      <td>2.904</td>\n",
       "      <td>1.0</td>\n",
       "    </tr>\n",
       "    <tr>\n",
       "      <th>1</th>\n",
       "      <td>Africa</td>\n",
       "      <td>Congo, Dem. Rep.</td>\n",
       "      <td>2001</td>\n",
       "      <td>21.361917</td>\n",
       "      <td>63.177257</td>\n",
       "      <td>-2.100173</td>\n",
       "      <td>96.724567</td>\n",
       "      <td>7.314364</td>\n",
       "      <td>50.667</td>\n",
       "      <td>2.888</td>\n",
       "      <td>1.2</td>\n",
       "    </tr>\n",
       "    <tr>\n",
       "      <th>2</th>\n",
       "      <td>Africa</td>\n",
       "      <td>Congo, Dem. Rep.</td>\n",
       "      <td>2002</td>\n",
       "      <td>21.998487</td>\n",
       "      <td>62.880395</td>\n",
       "      <td>2.947765</td>\n",
       "      <td>96.617267</td>\n",
       "      <td>7.915845</td>\n",
       "      <td>51.385</td>\n",
       "      <td>2.871</td>\n",
       "      <td>1.4</td>\n",
       "    </tr>\n",
       "    <tr>\n",
       "      <th>3</th>\n",
       "      <td>Africa</td>\n",
       "      <td>Congo, Dem. Rep.</td>\n",
       "      <td>2003</td>\n",
       "      <td>22.683921</td>\n",
       "      <td>62.583534</td>\n",
       "      <td>5.577822</td>\n",
       "      <td>96.539211</td>\n",
       "      <td>8.512090</td>\n",
       "      <td>52.144</td>\n",
       "      <td>2.860</td>\n",
       "      <td>1.6</td>\n",
       "    </tr>\n",
       "    <tr>\n",
       "      <th>4</th>\n",
       "      <td>Africa</td>\n",
       "      <td>Congo, Dem. Rep.</td>\n",
       "      <td>2004</td>\n",
       "      <td>23.408777</td>\n",
       "      <td>62.286672</td>\n",
       "      <td>6.738374</td>\n",
       "      <td>96.488953</td>\n",
       "      <td>9.105449</td>\n",
       "      <td>52.917</td>\n",
       "      <td>2.853</td>\n",
       "      <td>1.9</td>\n",
       "    </tr>\n",
       "  </tbody>\n",
       "</table>\n",
       "</div>"
      ],
      "text/plain": [
       "   Region      Country Name  Year  \\\n",
       "0  Africa  Congo, Dem. Rep.  2000   \n",
       "1  Africa  Congo, Dem. Rep.  2001   \n",
       "2  Africa  Congo, Dem. Rep.  2002   \n",
       "3  Africa  Congo, Dem. Rep.  2003   \n",
       "4  Africa  Congo, Dem. Rep.  2004   \n",
       "\n",
       "   Population density (people per sq. km of land area)  \\\n",
       "0                                          20.778470     \n",
       "1                                          21.361917     \n",
       "2                                          21.998487     \n",
       "3                                          22.683921     \n",
       "4                                          23.408777     \n",
       "\n",
       "   Forest area (% of land area)  GDP growth (annual %)  \\\n",
       "0                     63.474118              -6.910927   \n",
       "1                     63.177257              -2.100173   \n",
       "2                     62.880395               2.947765   \n",
       "3                     62.583534               5.577822   \n",
       "4                     62.286672               6.738374   \n",
       "\n",
       "   Ratio of female to male labor force participation rate (%) (modeled ILO estimate)  \\\n",
       "0                                          96.881158                                   \n",
       "1                                          96.724567                                   \n",
       "2                                          96.617267                                   \n",
       "3                                          96.539211                                   \n",
       "4                                          96.488953                                   \n",
       "\n",
       "   Access to electricity (% of population)  \\\n",
       "0                                 6.700000   \n",
       "1                                 7.314364   \n",
       "2                                 7.915845   \n",
       "3                                 8.512090   \n",
       "4                                 9.105449   \n",
       "\n",
       "   Life expectancy at birth, total (years)  \\\n",
       "0                                   50.041   \n",
       "1                                   50.667   \n",
       "2                                   51.385   \n",
       "3                                   52.144   \n",
       "4                                   52.917   \n",
       "\n",
       "   Unemployment, total (% of total labor force) (modeled ILO estimate)  \\\n",
       "0                                              2.904                     \n",
       "1                                              2.888                     \n",
       "2                                              2.871                     \n",
       "3                                              2.860                     \n",
       "4                                              2.853                     \n",
       "\n",
       "   Access to clean fuels and technologies for cooking (% of population)  \n",
       "0                                                1.0                     \n",
       "1                                                1.2                     \n",
       "2                                                1.4                     \n",
       "3                                                1.6                     \n",
       "4                                                1.9                     "
      ]
     },
     "execution_count": 2,
     "metadata": {},
     "output_type": "execute_result"
    }
   ],
   "source": [
    "show = pd.read_csv('show.csv').drop(columns = 'Unnamed: 0')\n",
    "show.head()"
   ]
  },
  {
   "cell_type": "markdown",
   "metadata": {},
   "source": [
    "---\n",
    "## 2. Initial explorations\n",
    "\n",
    "At this stage, you may spend most of your effort on the computing side tidying up the data. You're not expected to complete a thorough exploratory analysis, and if your dataset was especially messy to start with, you may not even begin your exploratory analysis by the time you prepare this report. You have the option to leave exploration for the next stage of work and simply report basic properties of the dataset, but you should at minimum address the items in the 'basic properties' section below."
   ]
  },
  {
   "cell_type": "markdown",
   "metadata": {},
   "source": [
    "### Basic properties of the dataset\n",
    "\n",
    "Help the reader get acquainted with your dataset on a simple level by identifying characteristics of the dataset and variable summaries. Some amount of code is fine here, but try to use code cells sparingly.\n",
    "\n",
    "**Dimensions**:\\\n",
    "There are 378 rows and 8 columns of variables in the dataset after cleaning.\n",
    "\n",
    "**Missing values**:\\\n",
    "Since the original data is collected by census, it is possible that some values are missing by chance. Hence, we only select variables from non-missing ones and rank their importance from each category.\n",
    "\n",
    "**Variable summaries**:\\\n",
    "The dataset consists of 8 numeric variables which are divided into 3 categories: Environment, Governance, and Social. We select 18 countries from 6 continents and 8 most representative variables of them from 2000 to 2020 and no missing values after cleaning. Under the environment part, we have `Population density` and `Forest area`. Governance variables include `GDP growth (annual %)` and `Ratio of female to male labor force participation rate (%)`. Lastly, social variables consist of `Access to clean fuels and technologies for cooking`, `Life expectancy at birth, total (years)`, `Unemployment, total (% of total labor force)`, and `Access to electricity (% of population)`. Thus, there are 168 different values of variables for each country. "
   ]
  },
  {
   "cell_type": "markdown",
   "metadata": {},
   "source": [
    "### Exploratory analysis\n",
    "\n",
    "If you were lucky and your dataset was neat, you should aim to include a few exploratory plots or tables here -- they don't need to be polished at this stage, but you should select plots that are informative (rather than including all plots you may have looked at). \n",
    "\n",
    "If you do include exploratory graphics or tables, please explain in a sentence or two what each one shows. Try to include a minimum of code. Consider [saving your plots as images](https://altair-viz.github.io/user_guide/saving_charts.html#png-svg-and-pdf-format) and inputting images into markdown cells instead of generating them anew via code cells."
   ]
  },
  {
   "cell_type": "markdown",
   "metadata": {},
   "source": [
    "The following graphs are the plots of distribution of accessibility to electricity in different regions in year 2020. We can see that except Africa region, other regions all have a relatively high accessibility to electricity."
   ]
  },
  {
   "cell_type": "markdown",
   "metadata": {},
   "source": [
    "![electricity](electricity.png)"
   ]
  },
  {
   "cell_type": "markdown",
   "metadata": {},
   "source": [
    "The follow graphs are the plots of the distribution of the percentage of GDP growth in 2019 and 2020. We choose these two years because COVID-19 happened in 2020, and thus we can see that in 2020, the GDP growth shift slightly to negative in almost all the regions."
   ]
  },
  {
   "cell_type": "markdown",
   "metadata": {},
   "source": [
    "![gdp_growth](gdp_growth.png)"
   ]
  },
  {
   "cell_type": "markdown",
   "metadata": {},
   "source": [
    "---\n",
    "## 3. Planned work\n",
    "\n",
    "Here you should indicate your tentative ideas for your analysis. Don't worry, these aren't final -- you can always change your mind later or shift gears if they don't pan out. The objective is to have you start thinking ahead about what you'll do."
   ]
  },
  {
   "cell_type": "markdown",
   "metadata": {},
   "source": [
    "### Questions\n",
    "\n",
    "Please propose two focused questions that you plan to explore.\n",
    "\n",
    "1. *Which region is more sustainable and how COVID-19 affects the GDP growth?*\n",
    "2. *Will the environment and social motivate governance?*"
   ]
  },
  {
   "cell_type": "markdown",
   "metadata": {},
   "source": [
    "### Proposed approaches\n",
    "\n",
    "For each question, please describe an idea or two about how you might approach the question.\n",
    "\n",
    "1. *We plan to plot a density plot showing the change during the pandemic and see how the curve differs.*\n",
    "\n",
    "2. *Using heatmap to see the correlation between environmental, social, and governance variables. Or probably using PCA.*\n"
   ]
  },
  {
   "cell_type": "markdown",
   "metadata": {
    "tags": []
   },
   "source": [
    "---\n",
    "## Submission Checklist\n",
    "1. Save file to confirm all changes are on disk\n",
    "2. Run *Kernel > Restart & Run All* to execute all code from top to bottom\n",
    "3. Save file again to write any new output to disk\n",
    "4. Generate PDF and submit to Gradescope"
   ]
  }
 ],
 "metadata": {
  "kernelspec": {
   "display_name": "Python 3 (ipykernel)",
   "language": "python",
   "name": "python3"
  },
  "language_info": {
   "codemirror_mode": {
    "name": "ipython",
    "version": 3
   },
   "file_extension": ".py",
   "mimetype": "text/x-python",
   "name": "python",
   "nbconvert_exporter": "python",
   "pygments_lexer": "ipython3",
   "version": "3.9.10"
  }
 },
 "nbformat": 4,
 "nbformat_minor": 4
}
